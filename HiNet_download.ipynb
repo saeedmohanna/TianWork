{
 "cells": [
  {
   "cell_type": "code",
   "execution_count": 1,
   "id": "42c196f7",
   "metadata": {},
   "outputs": [
    {
     "ename": "ModuleNotFoundError",
     "evalue": "No module named 'HinetPy'",
     "output_type": "error",
     "traceback": [
      "\u001b[0;31m---------------------------------------------------------------------------\u001b[0m",
      "\u001b[0;31mModuleNotFoundError\u001b[0m                       Traceback (most recent call last)",
      "\u001b[0;32m<ipython-input-1-526b7c96871f>\u001b[0m in \u001b[0;36m<module>\u001b[0;34m\u001b[0m\n\u001b[0;32m----> 1\u001b[0;31m \u001b[0;32mfrom\u001b[0m \u001b[0mHinetPy\u001b[0m \u001b[0;32mimport\u001b[0m \u001b[0mClient\u001b[0m\u001b[0;34m,\u001b[0m \u001b[0mwin32\u001b[0m\u001b[0;34m\u001b[0m\u001b[0;34m\u001b[0m\u001b[0m\n\u001b[0m\u001b[1;32m      2\u001b[0m \u001b[0;31m# %matplotlib widget\u001b[0m\u001b[0;34m\u001b[0m\u001b[0;34m\u001b[0m\u001b[0;34m\u001b[0m\u001b[0m\n\u001b[1;32m      3\u001b[0m \u001b[0;34m\u001b[0m\u001b[0m\n\u001b[1;32m      4\u001b[0m \u001b[0;32mimport\u001b[0m \u001b[0mmatplotlib\u001b[0m\u001b[0;34m.\u001b[0m\u001b[0mpyplot\u001b[0m \u001b[0;32mas\u001b[0m \u001b[0mplt\u001b[0m\u001b[0;34m\u001b[0m\u001b[0;34m\u001b[0m\u001b[0m\n\u001b[1;32m      5\u001b[0m \u001b[0;32mfrom\u001b[0m \u001b[0mdatetime\u001b[0m \u001b[0;32mimport\u001b[0m \u001b[0mdatetime\u001b[0m\u001b[0;34m\u001b[0m\u001b[0;34m\u001b[0m\u001b[0m\n",
      "\u001b[0;31mModuleNotFoundError\u001b[0m: No module named 'HinetPy'"
     ]
    }
   ],
   "source": [
    "from HinetPy import Client, win32\n",
    "# %matplotlib widget\n",
    "\n",
    "import matplotlib.pyplot as plt\n",
    "from datetime import datetime\n",
    "from IPython.core.interactiveshell import InteractiveShell\n",
    "import pandas as pd\n",
    "import numpy as np\n",
    "from obspy.geodetics import base\n",
    "from obspy.taup import TauPyModel\n",
    "from scipy import stats\n",
    "import glob\n",
    "from obspy import read\n",
    "# %matplotlib widget\n",
    "#InteractiveShell.ast_node_interactivity = \"all\""
   ]
  },
  {
   "cell_type": "code",
   "execution_count": null,
   "id": "e6273c75",
   "metadata": {},
   "outputs": [],
   "source": [
    "# Download data from iris\n",
    "client = Client(\"yuqingxie\",\"938512\")\n",
    "client.select_stations('0101', ['N.MKJH']) #0101 N.MKJH 37.4703 140.7227 510.0\n",
    "#client.select_stations('0101', latitude=36, longitude=139,minradius=0, maxradius=3\n",
    "# stations = client.get_station_list('0101')\n",
    "# for station in stations:\n",
    "#      print(station)\n",
    "# startdate = datetime(2010, 1, 1)\n",
    "# client.get_arrivaltime(startdate, 5)\n",
    "\n",
    "#'0101' is the code for Hi-net\n",
    "# 20 mins data since 2010-01-01T00:00(GMT+0900) from Hi-net\n",
    "# data,ctable = client.get_continuous_waveform('0101','201103012000',60*24, outdir='Data')\n",
    "#win32.extract_sac(data,ctable,outdir='Data')\n",
    "sta={'latitude':37.4703, 'longitude': 140.7227, 'depth':510.0, 'name': 'N.MKJH'}\n"
   ]
  },
  {
   "cell_type": "code",
   "execution_count": null,
   "id": "135a25e8",
   "metadata": {},
   "outputs": [],
   "source": [
    "cat=pd.read_csv(\"JMA_total.csv\")\n",
    "cat['time']=pd.to_datetime(cat['time'].values[:])\n"
   ]
  },
  {
   "cell_type": "code",
   "execution_count": null,
   "id": "772bb3c4",
   "metadata": {},
   "outputs": [],
   "source": [
    "folder='/home/tian_feng/bigeq/BP_MF/Hinet/data_conti_raw/2011.02.20/'\n",
    "data=glob.glob(folder+'*.cnt')[0]\n",
    "ctable=glob.glob(folder+'*.ch')[0]\n",
    "win32.extract_sac(data,ctable,outdir='Data')"
   ]
  },
  {
   "cell_type": "code",
   "execution_count": null,
   "id": "d65619c8",
   "metadata": {},
   "outputs": [],
   "source": [
    "files =glob.glob('./Data/*.SAC')\n",
    "st = read(\"./Data/*.SAC\")"
   ]
  },
  {
   "cell_type": "code",
   "execution_count": null,
   "id": "15856b53",
   "metadata": {},
   "outputs": [],
   "source": [
    "#Staion name: st[0].meta.station\n",
    "#Station longitude: st[0].meta.sac['stlo']\n",
    "# npts: st[0].meta.npts"
   ]
  },
  {
   "cell_type": "code",
   "execution_count": null,
   "id": "6ed6e7cd",
   "metadata": {},
   "outputs": [],
   "source": [
    "events=cat[(cat['time']>datetime(2011, 2, 20, 0))&(cat['time']<datetime(2011, 2, 21, 0))&(cat['MW']>-1)]\n",
    "events['time']=np.array(events['time']-datetime(2011, 2, 20, 0)).astype(float)/1e9\n",
    "events.index=range(len(events['time']))\n",
    "events"
   ]
  },
  {
   "cell_type": "code",
   "execution_count": null,
   "id": "ca795236",
   "metadata": {},
   "outputs": [],
   "source": [
    "model = TauPyModel(model=\"iasp91\")\n",
    "length=st[0].meta.npts\n",
    "sample_rate=st[0].meta.sampling_rate\n",
    "y_p=[0]*length\n",
    "y_s=[0]*length\n",
    "y_o=[0]*length\n",
    "x=np.arange(length)\n",
    "for i in range(len(events['time'])):\n",
    "    rdis = base.calc_vincenty_inverse(events['La'][i],events['Lo'][i],st[0].meta.sac['stla'],st[0].meta.sac['stlo'])\n",
    "    rdis = base.kilometer2degrees(rdis[0]/1000) # [m] to [degree] \n",
    "    P_arrival = model.get_travel_times(source_depth_in_km=events['Depth'][i]/1000,\n",
    "                                      distance_in_degree=rdis,\n",
    "                                      phase_list=[\"P\", \"pP\"])\n",
    "    S_arrival = model.get_travel_times(source_depth_in_km=events['Depth'][i]/1000,\n",
    "                                  distance_in_degree=rdis,\n",
    "                                  phase_list=[\"S\", \"s\"])\n",
    "    if len(P_arrival)>0 and len(S_arrival)>0:\n",
    "        if (events['MW'][i]>3):\n",
    "            print('Mw:',events['MW'][i],'rdis:',rdis,'travel_time:',P_arrival[0].time,'arrival:',events['time'][i]+P_arrival[0].time)\n",
    "        plt.plot([events['time'][i],events['time'][i]],[-800,800],'r')\n",
    "        plt.plot([events['time'][i]+P_arrival[0].time,events['time'][i]+P_arrival[0].time],[-800,800],'y')\n",
    "        tmp_o=stats.norm((events['time'][i])*sample_rate, 2000).pdf(x)\n",
    "        tmp_p=stats.norm((events['time'][i]+P_arrival[0].time)*sample_rate, 2000).pdf(x)\n",
    "        tmp_s=stats.norm((events['time'][i]+S_arrival[0].time)*sample_rate, 2000).pdf(x)\n",
    "\n",
    "        y_o += tmp_o/max(tmp_o)\n",
    "        y_p += tmp_p/max(tmp_p)\n",
    "        y_s += tmp_s/max(tmp_s)\n"
   ]
  },
  {
   "cell_type": "code",
   "execution_count": null,
   "id": "e3e20bcb",
   "metadata": {},
   "outputs": [],
   "source": [
    "start=2990000\n",
    "data=np.zeros([47, 3, 6000], dtype=np.uint8)\n",
    "for i in range(47):\n",
    "        for k in range(3):\n",
    "            data[i][k]=st[i*3+k][start-3000:start+3000]\n",
    "data=np.swapaxes(data,1,2)\n",
    "# img.save('my.png')\n",
    "plt.figure(figsize=(10,20))\n",
    "plt.subplot(211)\n",
    "\n",
    "plt.imshow(data)\n",
    "plt.subplot(212)\n",
    "plt.plot(st[0][start-3000:start+3000]/5)\n",
    "plt.show()"
   ]
  }
 ],
 "metadata": {
  "kernelspec": {
   "display_name": "Python 3",
   "language": "python",
   "name": "python3"
  },
  "language_info": {
   "codemirror_mode": {
    "name": "ipython",
    "version": 3
   },
   "file_extension": ".py",
   "mimetype": "text/x-python",
   "name": "python",
   "nbconvert_exporter": "python",
   "pygments_lexer": "ipython3",
   "version": "3.7.8"
  }
 },
 "nbformat": 4,
 "nbformat_minor": 5
}
